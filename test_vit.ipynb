{
 "cells": [
  {
   "cell_type": "markdown",
   "metadata": {},
   "source": [
    "## Testing vit_model_reproduce.py"
   ]
  },
  {
   "cell_type": "code",
   "execution_count": 2,
   "metadata": {},
   "outputs": [
    {
     "data": {
      "text/plain": [
       "True"
      ]
     },
     "execution_count": 2,
     "metadata": {},
     "output_type": "execute_result"
    }
   ],
   "source": [
    "# PatchEmbedding check\n",
    "import torch\n",
    "from vit_model_reproduce import PatchEmbedding\n",
    "x = torch.rand((12,3,224,224))\n",
    "PE = PatchEmbedding(img_size=224, patch_size=16, num_hiddens=768)\n",
    "PE(x).shape == (12, 196, 768)"
   ]
  },
  {
   "cell_type": "code",
   "execution_count": 3,
   "metadata": {},
   "outputs": [
    {
     "data": {
      "text/plain": [
       "True"
      ]
     },
     "execution_count": 3,
     "metadata": {},
     "output_type": "execute_result"
    }
   ],
   "source": [
    "# ScaledDotProductAttention check\n",
    "import torch\n",
    "from vit_model_reproduce import ScaledDotProductAttention\n",
    "queries = torch.normal(0, 1, (2, 1, 2))\n",
    "keys = torch.normal(0, 1, (2, 10, 2))\n",
    "values = torch.normal(0, 1, (2, 10, 4))\n",
    "attention = ScaledDotProductAttention(dropout=0.5)\n",
    "attention.eval()\n",
    "out = attention(queries,keys,values)\n",
    "out.shape == (2,1,4)"
   ]
  },
  {
   "cell_type": "code",
   "execution_count": 4,
   "metadata": {},
   "outputs": [
    {
     "name": "stderr",
     "output_type": "stream",
     "text": [
      "c:\\Users\\Shizh\\miniconda3\\envs\\torch_monai_env\\Lib\\site-packages\\torch\\nn\\modules\\lazy.py:180: UserWarning: Lazy modules are a new feature under heavy development so changes to the API or functionality can happen at any moment.\n",
      "  warnings.warn('Lazy modules are a new feature under heavy development '\n"
     ]
    },
    {
     "data": {
      "text/plain": [
       "True"
      ]
     },
     "execution_count": 4,
     "metadata": {},
     "output_type": "execute_result"
    }
   ],
   "source": [
    "# MultiHeadAttention check\n",
    "import torch\n",
    "from vit_model_reproduce import MultiHeadAttention\n",
    "num_hiddens, num_heads = 100, 20\n",
    "attention = MultiHeadAttention(num_hiddens, num_heads, 0.5)\n",
    "batch_size, num_queries, num_kvpairs = 5, 11, 9\n",
    "X = torch.ones((batch_size, num_queries, num_hiddens))\n",
    "Y = torch.ones((batch_size, num_kvpairs, num_hiddens))\n",
    "attention(X, Y, Y).shape == (batch_size, num_queries, num_hiddens)"
   ]
  },
  {
   "cell_type": "code",
   "execution_count": 5,
   "metadata": {},
   "outputs": [
    {
     "data": {
      "text/plain": [
       "True"
      ]
     },
     "execution_count": 5,
     "metadata": {},
     "output_type": "execute_result"
    }
   ],
   "source": [
    "# ViTBlock check\n",
    "import torch\n",
    "from vit_model_reproduce import ViTBlock\n",
    "X = torch.ones((2, 100, 24))\n",
    "encoder_blk = ViTBlock(24, 24, 48, 8, 0.5)\n",
    "encoder_blk.eval()\n",
    "encoder_blk(X).shape == X.shape"
   ]
  },
  {
   "cell_type": "code",
   "execution_count": 1,
   "metadata": {},
   "outputs": [
    {
     "name": "stderr",
     "output_type": "stream",
     "text": [
      "c:\\Users\\Shizh\\miniconda3\\envs\\torch_monai_env\\Lib\\site-packages\\torch\\nn\\modules\\lazy.py:180: UserWarning: Lazy modules are a new feature under heavy development so changes to the API or functionality can happen at any moment.\n",
      "  warnings.warn('Lazy modules are a new feature under heavy development '\n"
     ]
    },
    {
     "data": {
      "text/plain": [
       "True"
      ]
     },
     "execution_count": 1,
     "metadata": {},
     "output_type": "execute_result"
    }
   ],
   "source": [
    "# ViT check\n",
    "import torch\n",
    "from vit_model_reproduce import ViT\n",
    "img_size, patch_size, batch_size = 224, 16, 2\n",
    "num_hiddens, mlp_num_hiddens, num_heads, num_blks = 768, 768*4, 12, 2\n",
    "emb_dropout, blk_dropout = 0.1, 0.1\n",
    "num_classes = 1000\n",
    "ViT_Base = ViT(img_size, patch_size, num_hiddens, mlp_num_hiddens, num_heads,\n",
    "            num_blks, emb_dropout = emb_dropout, blk_dropout = blk_dropout, num_classes = num_classes)\n",
    "x = torch.rand((batch_size,3,img_size,img_size))\n",
    "out = ViT_Base(x)\n",
    "out.shape == (batch_size,num_classes)\n"
   ]
  }
 ],
 "metadata": {
  "kernelspec": {
   "display_name": "torch_monai_env",
   "language": "python",
   "name": "python3"
  },
  "language_info": {
   "codemirror_mode": {
    "name": "ipython",
    "version": 3
   },
   "file_extension": ".py",
   "mimetype": "text/x-python",
   "name": "python",
   "nbconvert_exporter": "python",
   "pygments_lexer": "ipython3",
   "version": "3.11.5"
  }
 },
 "nbformat": 4,
 "nbformat_minor": 2
}
